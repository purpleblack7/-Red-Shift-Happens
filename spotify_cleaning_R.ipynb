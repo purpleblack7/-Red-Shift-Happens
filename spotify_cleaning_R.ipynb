{
  "nbformat": 4,
  "nbformat_minor": 0,
  "metadata": {
    "accelerator": "TPU",
    "colab": {
      "name": "spotify_cleaning.R",
      "provenance": [],
      "collapsed_sections": []
    },
    "kernelspec": {
      "display_name": "Python 3",
      "name": "python3"
    },
    "language_info": {
      "name": "python"
    }
  },
  "cells": [
    {
      "cell_type": "code",
      "metadata": {
        "id": "lxVuF5Og1IRN"
      },
      "source": [
        "import pandas as pd\n",
        "import numpy as np\n",
        "%load_ext rpy2.ipython"
      ],
      "execution_count": null,
      "outputs": []
    },
    {
      "cell_type": "code",
      "metadata": {
        "colab": {
          "base_uri": "https://localhost:8080/"
        },
        "id": "r9jfrfAd0gBW",
        "outputId": "00259220-4b89-4b1d-83d5-d6769485b854"
      },
      "source": [
        "from google.colab import drive\n",
        "drive.mount('/content/drive')"
      ],
      "execution_count": null,
      "outputs": [
        {
          "output_type": "stream",
          "text": [
            "Mounted at /content/drive\n"
          ],
          "name": "stdout"
        }
      ]
    },
    {
      "cell_type": "code",
      "metadata": {
        "id": "kyRLKh2XASCS"
      },
      "source": [
        "%%R\n",
        "data = read.csv(\"/content/drive/MyDrive/BUDT758B/tracks.csv\", encoding = 'utf-8')\n"
      ],
      "execution_count": null,
      "outputs": []
    },
    {
      "cell_type": "code",
      "metadata": {
        "colab": {
          "base_uri": "https://localhost:8080/"
        },
        "id": "d191f0kRDAnH",
        "outputId": "29071dad-00ba-4819-95dd-d38d1cb81178"
      },
      "source": [
        "%%R\n",
        "require(\"tidyverse\")\n"
      ],
      "execution_count": null,
      "outputs": [
        {
          "output_type": "stream",
          "text": [
            "UsageError: Cell magic `%%R` not found.\n"
          ],
          "name": "stderr"
        }
      ]
    },
    {
      "cell_type": "code",
      "metadata": {
        "colab": {
          "base_uri": "https://localhost:8080/"
        },
        "id": "yl-OA2wVqMGA",
        "outputId": "d9b8cbb0-bb33-430f-aa68-ef9cb497acbc"
      },
      "source": [
        "%%R\n",
        "colnames(data) "
      ],
      "execution_count": null,
      "outputs": [
        {
          "output_type": "stream",
          "text": [
            " [1] \"id\"               \"name\"             \"popularity\"       \"duration_ms\"     \n",
            " [5] \"explicit\"         \"artists\"          \"id_artists\"       \"release_date\"    \n",
            " [9] \"danceability\"     \"energy\"           \"key\"              \"loudness\"        \n",
            "[13] \"mode\"             \"speechiness\"      \"acousticness\"     \"instrumentalness\"\n",
            "[17] \"liveness\"         \"valence\"          \"tempo\"            \"time_signature\"  \n"
          ],
          "name": "stdout"
        }
      ]
    },
    {
      "cell_type": "code",
      "metadata": {
        "id": "8EOAq7PyBWrx"
      },
      "source": [
        "%%R\n",
        "data <- data  %>% \n",
        "select(-(c(id)))"
      ],
      "execution_count": null,
      "outputs": []
    },
    {
      "cell_type": "code",
      "metadata": {
        "id": "ddlZcHbiQkMt"
      },
      "source": [
        "%%R\n",
        "data$year = substr(data$release_date, 1, 4)"
      ],
      "execution_count": null,
      "outputs": []
    },
    {
      "cell_type": "code",
      "metadata": {
        "id": "CCm7u-T3YI7m"
      },
      "source": [
        "%%R\n",
        "\n",
        "#Removing the ['....... '] frame around the artists -> ['AC/DC'] now becomes AC/DC\n",
        "data$artists <- gsub(\"\\\\']\",\"\",gsub(\"\\\\[\\'\", \"\",data$artists))\n",
        "\n",
        "#The B-52s were causing a bit of trouble. Time to sort them out\n",
        "data$artists <- gsub('\\\\\"]',\"\",gsub('\\\\[\\\"', \"\",data$artists))\n",
        "\n",
        "#Cleaning the Jrs\n",
        "data$artists <- gsub(\", Jr.\", \" Jr\",data$artists)\n",
        "\n",
        "\n",
        "#Splitting the string where there are more than 1 artists\n",
        "\n",
        "data$artists <- as.list(strsplit(data$artists,\",\"))\n",
        "\n",
        "\n",
        "\n"
      ],
      "execution_count": null,
      "outputs": []
    },
    {
      "cell_type": "code",
      "metadata": {
        "colab": {
          "base_uri": "https://localhost:8080/"
        },
        "id": "pndD76ufaqCN",
        "outputId": "74a208e7-3304-4300-8a52-326c0fcd2b71"
      },
      "source": [
        "%%R\n",
        "colnames(data)"
      ],
      "execution_count": null,
      "outputs": [
        {
          "output_type": "stream",
          "text": [
            " [1] \"name\"             \"popularity\"       \"duration_ms\"      \"explicit\"        \n",
            " [5] \"artists\"          \"id_artists\"       \"release_date\"     \"danceability\"    \n",
            " [9] \"energy\"           \"key\"              \"loudness\"         \"mode\"            \n",
            "[13] \"speechiness\"      \"acousticness\"     \"instrumentalness\" \"liveness\"        \n",
            "[17] \"valence\"          \"tempo\"            \"time_signature\"   \"year\"            \n"
          ],
          "name": "stdout"
        }
      ]
    },
    {
      "cell_type": "code",
      "metadata": {
        "colab": {
          "base_uri": "https://localhost:8080/"
        },
        "id": "5dZdRAsyib2z",
        "outputId": "dad4cd1c-39a0-4aa7-a518-bd6bcc40f344"
      },
      "source": [
        "%%R\n",
        "\n",
        "data$artist1 <- \"\"\n",
        "#Creating a column for the first artist\n",
        "data$artist1 <- data$artists\n",
        "\n",
        "#Populating the values in the first column. Warning: This could take a while\n",
        "row= 0\n",
        "for (row in c(1:nrow(data)))\n",
        "{\n",
        "  if (length(data$artists[row]) >= 0 )\n",
        "  {\n",
        "    #print(data$artists[row]) #If you want to see the progress\n",
        "    data$artist1[row] = data$artist1[row][[1]]\n",
        "  }\n",
        "}\n",
        "\n",
        "\n"
      ],
      "execution_count": null,
      "outputs": [
        {
          "output_type": "stream",
          "text": [
            "R[write to console]: Error in data$artist1[row] <- data$artist1[row][[1]] : \n",
            "  replacement has length zero\n",
            "\n",
            "R[write to console]: In addition: \n",
            "R[write to console]: There were 50 or more warnings (use warnings() to see the first 50)\n",
            "R[write to console]: \n",
            "\n"
          ],
          "name": "stderr"
        },
        {
          "output_type": "stream",
          "text": [
            "\n",
            "Error in data$artist1[row] <- data$artist1[row][[1]] : \n",
            "  replacement has length zero\n"
          ],
          "name": "stdout"
        }
      ]
    },
    {
      "cell_type": "code",
      "metadata": {
        "id": "lNou8KS1JJyf",
        "colab": {
          "base_uri": "https://localhost:8080/"
        },
        "outputId": "766617fd-0859-441b-86f5-c837dbd55ec6"
      },
      "source": [
        "%%R\n",
        "#Creating columns for Artist 2,3,4 \n",
        "data$artist2 <- \"\"\n",
        "data$artist3 <- \"\"\n",
        "data$artist4 <- \"\"\n",
        "\n",
        "\n",
        "#Taking in the values for artists 2,3,4 from the list of artists. Replaces with NA if there are no supporting artists \n",
        "i=0\n",
        "for (i in c(1:nrow(data)))\n",
        "{\n",
        "  if (length(data$artists[[i]] == 5))\n",
        "  {\n",
        "    data$artist2[i] <- data$artists[[i]][2]\n",
        "    data$artist3[i] <- data$artists[[i]][3]\n",
        "    data$artist4[i] <- data$artists[[i]][4]\n",
        "  }else \n",
        "  {\n",
        "   print(\"Need more column\")\n",
        "    print(length(data$artists[[i]]))\n",
        "  }\n",
        "}\n"
      ],
      "execution_count": null,
      "outputs": [
        {
          "output_type": "stream",
          "text": [
            "[1] \"Need more column\"\n",
            "[1] 0\n",
            "[1] \"Need more column\"\n",
            "[1] 0\n",
            "[1] \"Need more column\"\n",
            "[1] 0\n",
            "[1] \"Need more column\"\n",
            "[1] 0\n",
            "[1] \"Need more column\"\n",
            "[1] 0\n",
            "[1] \"Need more column\"\n",
            "[1] 0\n",
            "[1] \"Need more column\"\n",
            "[1] 0\n",
            "[1] \"Need more column\"\n",
            "[1] 0\n",
            "[1] \"Need more column\"\n",
            "[1] 0\n",
            "[1] \"Need more column\"\n",
            "[1] 0\n",
            "[1] \"Need more column\"\n",
            "[1] 0\n",
            "[1] \"Need more column\"\n",
            "[1] 0\n",
            "[1] \"Need more column\"\n",
            "[1] 0\n",
            "[1] \"Need more column\"\n",
            "[1] 0\n",
            "[1] \"Need more column\"\n",
            "[1] 0\n",
            "[1] \"Need more column\"\n",
            "[1] 0\n",
            "[1] \"Need more column\"\n",
            "[1] 0\n",
            "[1] \"Need more column\"\n",
            "[1] 0\n",
            "[1] \"Need more column\"\n",
            "[1] 0\n",
            "[1] \"Need more column\"\n",
            "[1] 0\n",
            "[1] \"Need more column\"\n",
            "[1] 0\n",
            "[1] \"Need more column\"\n",
            "[1] 0\n",
            "[1] \"Need more column\"\n",
            "[1] 0\n",
            "[1] \"Need more column\"\n",
            "[1] 0\n",
            "[1] \"Need more column\"\n",
            "[1] 0\n",
            "[1] \"Need more column\"\n",
            "[1] 0\n",
            "[1] \"Need more column\"\n",
            "[1] 0\n",
            "[1] \"Need more column\"\n",
            "[1] 0\n",
            "[1] \"Need more column\"\n",
            "[1] 0\n",
            "[1] \"Need more column\"\n",
            "[1] 0\n",
            "[1] \"Need more column\"\n",
            "[1] 0\n",
            "[1] \"Need more column\"\n",
            "[1] 0\n",
            "[1] \"Need more column\"\n",
            "[1] 0\n",
            "[1] \"Need more column\"\n",
            "[1] 0\n",
            "[1] \"Need more column\"\n",
            "[1] 0\n",
            "[1] \"Need more column\"\n",
            "[1] 0\n",
            "[1] \"Need more column\"\n",
            "[1] 0\n",
            "[1] \"Need more column\"\n",
            "[1] 0\n",
            "[1] \"Need more column\"\n",
            "[1] 0\n",
            "[1] \"Need more column\"\n",
            "[1] 0\n",
            "[1] \"Need more column\"\n",
            "[1] 0\n",
            "[1] \"Need more column\"\n",
            "[1] 0\n",
            "[1] \"Need more column\"\n",
            "[1] 0\n",
            "[1] \"Need more column\"\n",
            "[1] 0\n",
            "[1] \"Need more column\"\n",
            "[1] 0\n",
            "[1] \"Need more column\"\n",
            "[1] 0\n",
            "[1] \"Need more column\"\n",
            "[1] 0\n",
            "[1] \"Need more column\"\n",
            "[1] 0\n",
            "[1] \"Need more column\"\n",
            "[1] 0\n",
            "[1] \"Need more column\"\n",
            "[1] 0\n",
            "[1] \"Need more column\"\n",
            "[1] 0\n",
            "[1] \"Need more column\"\n",
            "[1] 0\n",
            "[1] \"Need more column\"\n",
            "[1] 0\n",
            "[1] \"Need more column\"\n",
            "[1] 0\n",
            "[1] \"Need more column\"\n",
            "[1] 0\n",
            "[1] \"Need more column\"\n",
            "[1] 0\n",
            "[1] \"Need more column\"\n",
            "[1] 0\n",
            "[1] \"Need more column\"\n",
            "[1] 0\n",
            "[1] \"Need more column\"\n",
            "[1] 0\n",
            "[1] \"Need more column\"\n",
            "[1] 0\n",
            "[1] \"Need more column\"\n",
            "[1] 0\n",
            "[1] \"Need more column\"\n",
            "[1] 0\n",
            "[1] \"Need more column\"\n",
            "[1] 0\n",
            "[1] \"Need more column\"\n",
            "[1] 0\n",
            "[1] \"Need more column\"\n",
            "[1] 0\n",
            "[1] \"Need more column\"\n",
            "[1] 0\n",
            "[1] \"Need more column\"\n",
            "[1] 0\n",
            "[1] \"Need more column\"\n",
            "[1] 0\n",
            "[1] \"Need more column\"\n",
            "[1] 0\n",
            "[1] \"Need more column\"\n",
            "[1] 0\n",
            "[1] \"Need more column\"\n",
            "[1] 0\n"
          ],
          "name": "stdout"
        }
      ]
    },
    {
      "cell_type": "code",
      "metadata": {
        "id": "bxuZtogx3s43"
      },
      "source": [
        "%%R \n",
        "\n",
        "#Removing the ' occurences in the data\n",
        "data$artist2 <- gsub(\"'\",\"\", data$artist2)\n",
        "#Removing trailing spaces \n",
        "data$artist2 <- str_trim(data$artist2)\n",
        "\n",
        "\n",
        "#Applying for other artists\n",
        "data$artist3 <- gsub(\"'\",\"\", data$artist3)\n",
        "data$artist3 <- str_trim(data$artist3)\n",
        "\n",
        "data$artist4 <- gsub(\"'\",\"\", data$artist4)\n",
        "data$artist4 <- str_trim(data$artist4)\n",
        "\n",
        "#data$artist5 <- gsub(\"'\",\"\", data$artist5)\n",
        "#data$artist5 <- str_trim(data$artist5)\n",
        "\n",
        "\n",
        "\n",
        "data$n_artists = case_when(\n",
        "                    is.na(data$artist4) == FALSE ~ 4,\n",
        "                   (is.na(data$artist4) == TRUE) & (is.na(data$artist3) == FALSE) ~ 3,\n",
        "                   (is.na(data$artist3) == TRUE) & (is.na(data$artist2) == FALSE) ~ 2,\n",
        "                   TRUE ~ 1\n",
        ")"
      ],
      "execution_count": null,
      "outputs": []
    },
    {
      "cell_type": "code",
      "metadata": {
        "colab": {
          "base_uri": "https://localhost:8080/"
        },
        "id": "LvQAUIg9Fp9a",
        "outputId": "fc36746c-7f61-4081-b76c-e2ea5b8a1825"
      },
      "source": [
        "%%R\n",
        "for (i in 1:ncol(data))\n",
        "{print (class(data[, i])) }"
      ],
      "execution_count": null,
      "outputs": [
        {
          "output_type": "stream",
          "text": [
            "[1] \"character\"\n",
            "[1] \"integer\"\n",
            "[1] \"integer\"\n",
            "[1] \"integer\"\n",
            "[1] \"character\"\n",
            "[1] \"character\"\n",
            "[1] \"numeric\"\n",
            "[1] \"numeric\"\n",
            "[1] \"integer\"\n",
            "[1] \"numeric\"\n",
            "[1] \"integer\"\n",
            "[1] \"numeric\"\n",
            "[1] \"numeric\"\n",
            "[1] \"numeric\"\n",
            "[1] \"numeric\"\n",
            "[1] \"numeric\"\n",
            "[1] \"numeric\"\n",
            "[1] \"integer\"\n",
            "[1] \"character\"\n",
            "[1] \"character\"\n",
            "[1] \"character\"\n",
            "[1] \"character\"\n",
            "[1] \"character\"\n",
            "[1] \"numeric\"\n"
          ],
          "name": "stdout"
        }
      ]
    },
    {
      "cell_type": "code",
      "metadata": {
        "id": "7YteTQrOGcQ_"
      },
      "source": [
        "%%R\n",
        "data = data %>%\n",
        "select(-(artists))"
      ],
      "execution_count": null,
      "outputs": []
    },
    {
      "cell_type": "code",
      "metadata": {
        "id": "7n7ZB_T6GwaK"
      },
      "source": [
        "%%R\n",
        "data$artist1 = as.character(data$artist1)"
      ],
      "execution_count": null,
      "outputs": []
    },
    {
      "cell_type": "code",
      "metadata": {
        "id": "Nf265Z6O3-WM"
      },
      "source": [
        "%%R\n",
        "data <- data %>% \n",
        "  mutate(decade = case_when(data$year >= 1920 & data$year < 1930 ~ \"1920\" ,\n",
        "                            data$year >= 1930 & data$year < 1940 ~ \"1930\" ,\n",
        "                            data$year >= 1940 & data$year < 1950 ~ \"1940\" ,\n",
        "                            data$year >= 1950 & data$year < 1960 ~ \"1950\" ,\n",
        "                            data$year >= 1960 & data$year < 1970 ~ \"1960\" ,\n",
        "                            data$year >= 1970 & data$year < 1980 ~ \"1970\" ,\n",
        "                            data$year >= 1980 & data$year < 1990 ~ \"1980\" ,\n",
        "                            data$year >= 1990 & data$year < 2000 ~ \"1990\" ,\n",
        "                            data$year >= 2000 & data$year < 2010 ~ \"2000\" ,\n",
        "                            data$year >= 2010 & data$year < 2020 ~ \"2010\",\n",
        "                            data$year >= 2020 ~ \"2020\"))\n",
        "\n",
        "data$decade = as.numeric(data$decade)\n",
        "data <- data %>% \n",
        "  mutate(is_popular = ifelse(data$popularity > 25, 1, 0))\n"
      ],
      "execution_count": null,
      "outputs": []
    },
    {
      "cell_type": "code",
      "metadata": {
        "id": "sWBPIQ1C4XbV"
      },
      "source": [
        "%%R\n",
        "write.csv(data, file=(\"/content/drive/MyDrive/BUDT758B/cleaned_datafinal.csv\"))\n",
        "\n",
        "#Removed .csv succesffuly into Shared Files 4/25/2021"
      ],
      "execution_count": null,
      "outputs": []
    }
  ]
}